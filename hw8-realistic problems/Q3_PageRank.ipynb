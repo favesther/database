{
 "cells": [
  {
   "cell_type": "code",
   "execution_count": 1,
   "metadata": {},
   "outputs": [],
   "source": [
    "import pandas as pd\n",
    "\n",
    "import numpy as np"
   ]
  },
  {
   "cell_type": "markdown",
   "metadata": {},
   "source": [
    "Let N be the number of cities.\n",
    "Let A be the adjacency matrix of 0s and 1s of the city adjacency graph (A is a size NxN matrix).\n",
    "Let D be the out-degree vector of the city adjacency graph (D is a size N vector).\n",
    "Let v_{0} be a vector indexed by cities (v_{0} is a size N vector).\n",
    "Each v_{i} is a similar vector. All v vectors sum to 1.\n",
    "\n",
    "/* Initialize v. */ \n",
    "for (c in 1..N)\n",
    "    v_{0}(c) := 1 / N;\n",
    "\n",
    "/* Iteratively update v until convergence. */\n",
    "i := 0;\n",
    "do {\n",
    "    i := i + 1;\n",
    "    for (c in 1..N) {\n",
    "        v_{i}(c) := 0.1 / N;\n",
    "        for (d in 1..N)\n",
    "            v_{i}(c) := v_{i}(c) + 0.9 * A(d,c) * v_{i-1}(d) / D(d);\n",
    "    }\n",
    "} while (sum(abs(v_{i} - v_{i-1})) > 0.0001);\n",
    "\n",
    "return v_{i};\n"
   ]
  },
  {
   "cell_type": "code",
   "execution_count": 2,
   "metadata": {},
   "outputs": [],
   "source": [
    "# select distinct origin_city, dest_city from Flights;\n",
    "df=pd.read_csv('Flights.csv')"
   ]
  },
  {
   "cell_type": "code",
   "execution_count": 3,
   "metadata": {},
   "outputs": [
    {
     "data": {
      "text/html": [
       "<div>\n",
       "<style scoped>\n",
       "    .dataframe tbody tr th:only-of-type {\n",
       "        vertical-align: middle;\n",
       "    }\n",
       "\n",
       "    .dataframe tbody tr th {\n",
       "        vertical-align: top;\n",
       "    }\n",
       "\n",
       "    .dataframe thead th {\n",
       "        text-align: right;\n",
       "    }\n",
       "</style>\n",
       "<table border=\"1\" class=\"dataframe\">\n",
       "  <thead>\n",
       "    <tr style=\"text-align: right;\">\n",
       "      <th></th>\n",
       "      <th>origin_city</th>\n",
       "      <th>dest_city</th>\n",
       "    </tr>\n",
       "  </thead>\n",
       "  <tbody>\n",
       "    <tr>\n",
       "      <th>0</th>\n",
       "      <td>Boston MA</td>\n",
       "      <td>Austin TX</td>\n",
       "    </tr>\n",
       "    <tr>\n",
       "      <th>1</th>\n",
       "      <td>Cincinnati OH</td>\n",
       "      <td>Salt Lake City UT</td>\n",
       "    </tr>\n",
       "    <tr>\n",
       "      <th>2</th>\n",
       "      <td>Minneapolis MN</td>\n",
       "      <td>Hartford CT</td>\n",
       "    </tr>\n",
       "    <tr>\n",
       "      <th>3</th>\n",
       "      <td>Portland ME</td>\n",
       "      <td>Atlanta GA</td>\n",
       "    </tr>\n",
       "    <tr>\n",
       "      <th>4</th>\n",
       "      <td>Phoenix AZ</td>\n",
       "      <td>Miami FL</td>\n",
       "    </tr>\n",
       "    <tr>\n",
       "      <th>...</th>\n",
       "      <td>...</td>\n",
       "      <td>...</td>\n",
       "    </tr>\n",
       "    <tr>\n",
       "      <th>4657</th>\n",
       "      <td>Denver CO</td>\n",
       "      <td>Fort Lauderdale FL</td>\n",
       "    </tr>\n",
       "    <tr>\n",
       "      <th>4658</th>\n",
       "      <td>San Francisco CA</td>\n",
       "      <td>Cincinnati OH</td>\n",
       "    </tr>\n",
       "    <tr>\n",
       "      <th>4659</th>\n",
       "      <td>Honolulu HI</td>\n",
       "      <td>Kona HI</td>\n",
       "    </tr>\n",
       "    <tr>\n",
       "      <th>4660</th>\n",
       "      <td>Kahului HI</td>\n",
       "      <td>Dallas/Fort Worth TX</td>\n",
       "    </tr>\n",
       "    <tr>\n",
       "      <th>4661</th>\n",
       "      <td>Minneapolis MN</td>\n",
       "      <td>Omaha NE</td>\n",
       "    </tr>\n",
       "  </tbody>\n",
       "</table>\n",
       "<p>4662 rows × 2 columns</p>\n",
       "</div>"
      ],
      "text/plain": [
       "           origin_city             dest_city\n",
       "0            Boston MA             Austin TX\n",
       "1        Cincinnati OH     Salt Lake City UT\n",
       "2       Minneapolis MN           Hartford CT\n",
       "3          Portland ME            Atlanta GA\n",
       "4           Phoenix AZ              Miami FL\n",
       "...                ...                   ...\n",
       "4657         Denver CO    Fort Lauderdale FL\n",
       "4658  San Francisco CA         Cincinnati OH\n",
       "4659       Honolulu HI               Kona HI\n",
       "4660        Kahului HI  Dallas/Fort Worth TX\n",
       "4661    Minneapolis MN              Omaha NE\n",
       "\n",
       "[4662 rows x 2 columns]"
      ]
     },
     "execution_count": 3,
     "metadata": {},
     "output_type": "execute_result"
    }
   ],
   "source": [
    "df"
   ]
  },
  {
   "cell_type": "code",
   "execution_count": 4,
   "metadata": {},
   "outputs": [
    {
     "data": {
      "text/plain": [
       "(327, 326)"
      ]
     },
     "execution_count": 4,
     "metadata": {},
     "output_type": "execute_result"
    }
   ],
   "source": [
    "origin_city=df['origin_city'].unique()\n",
    "\n",
    "dest_city=df['dest_city'].unique()\n",
    "\n",
    "len(origin_city), len(dest_city)"
   ]
  },
  {
   "cell_type": "code",
   "execution_count": 5,
   "metadata": {},
   "outputs": [],
   "source": [
    "#the origin_city has one more city than dest_city\n",
    "cities=list(df['origin_city'].unique())\n",
    "#sort the cities list alphabetically\n",
    "cities.sort() \n",
    "N=len(cities)"
   ]
  },
  {
   "cell_type": "code",
   "execution_count": 6,
   "metadata": {
    "scrolled": true
   },
   "outputs": [],
   "source": [
    "# create a n*n matrix with all zeros\n",
    "A=np.zeros([N,N],dtype=int)"
   ]
  },
  {
   "cell_type": "code",
   "execution_count": 7,
   "metadata": {},
   "outputs": [],
   "source": [
    "for i in range(len(df)):\n",
    "    a=cities.index(df['origin_city'][i])\n",
    "    b=cities.index(df['dest_city'][i])\n",
    "    A[a][b]=1"
   ]
  },
  {
   "cell_type": "code",
   "execution_count": 8,
   "metadata": {},
   "outputs": [
    {
     "data": {
      "text/plain": [
       "array([[0, 0, 0, ..., 0, 0, 0],\n",
       "       [0, 0, 0, ..., 0, 0, 0],\n",
       "       [0, 0, 0, ..., 0, 0, 0],\n",
       "       ...,\n",
       "       [0, 0, 0, ..., 0, 0, 0],\n",
       "       [0, 0, 0, ..., 0, 0, 0],\n",
       "       [0, 0, 0, ..., 0, 0, 0]])"
      ]
     },
     "execution_count": 8,
     "metadata": {},
     "output_type": "execute_result"
    }
   ],
   "source": [
    "# the adjacency matrix\n",
    "A"
   ]
  },
  {
   "cell_type": "code",
   "execution_count": 9,
   "metadata": {},
   "outputs": [],
   "source": [
    "outdegree=pd.read_csv('outdegree.csv')"
   ]
  },
  {
   "cell_type": "code",
   "execution_count": 10,
   "metadata": {},
   "outputs": [
    {
     "data": {
      "text/html": [
       "<div>\n",
       "<style scoped>\n",
       "    .dataframe tbody tr th:only-of-type {\n",
       "        vertical-align: middle;\n",
       "    }\n",
       "\n",
       "    .dataframe tbody tr th {\n",
       "        vertical-align: top;\n",
       "    }\n",
       "\n",
       "    .dataframe thead th {\n",
       "        text-align: right;\n",
       "    }\n",
       "</style>\n",
       "<table border=\"1\" class=\"dataframe\">\n",
       "  <thead>\n",
       "    <tr style=\"text-align: right;\">\n",
       "      <th></th>\n",
       "      <th>city</th>\n",
       "      <th>num</th>\n",
       "    </tr>\n",
       "  </thead>\n",
       "  <tbody>\n",
       "    <tr>\n",
       "      <th>0</th>\n",
       "      <td>Aberdeen SD</td>\n",
       "      <td>62</td>\n",
       "    </tr>\n",
       "    <tr>\n",
       "      <th>1</th>\n",
       "      <td>Abilene TX</td>\n",
       "      <td>423</td>\n",
       "    </tr>\n",
       "    <tr>\n",
       "      <th>2</th>\n",
       "      <td>Adak Island AK</td>\n",
       "      <td>18</td>\n",
       "    </tr>\n",
       "    <tr>\n",
       "      <th>3</th>\n",
       "      <td>Aguadilla PR</td>\n",
       "      <td>265</td>\n",
       "    </tr>\n",
       "    <tr>\n",
       "      <th>4</th>\n",
       "      <td>Akron OH</td>\n",
       "      <td>1458</td>\n",
       "    </tr>\n",
       "  </tbody>\n",
       "</table>\n",
       "</div>"
      ],
      "text/plain": [
       "             city   num\n",
       "0     Aberdeen SD    62\n",
       "1      Abilene TX   423\n",
       "2  Adak Island AK    18\n",
       "3    Aguadilla PR   265\n",
       "4        Akron OH  1458"
      ]
     },
     "execution_count": 10,
     "metadata": {},
     "output_type": "execute_result"
    }
   ],
   "source": [
    "outdegree.head()"
   ]
  },
  {
   "cell_type": "code",
   "execution_count": 11,
   "metadata": {},
   "outputs": [
    {
     "data": {
      "text/plain": [
       "['Aberdeen SD', 'Abilene TX', 'Adak Island AK', 'Aguadilla PR', 'Akron OH']"
      ]
     },
     "execution_count": 11,
     "metadata": {},
     "output_type": "execute_result"
    }
   ],
   "source": [
    "cities[0:5]"
   ]
  },
  {
   "cell_type": "markdown",
   "metadata": {},
   "source": [
    "CHECK THE ORDER OF THE TWO ARRAYS"
   ]
  },
  {
   "cell_type": "code",
   "execution_count": 12,
   "metadata": {},
   "outputs": [],
   "source": [
    "#Let D be the out-degree vector of the city adjacency graph (D is a size N vector)\n",
    "D=list(outdegree['num'])"
   ]
  },
  {
   "cell_type": "code",
   "execution_count": 13,
   "metadata": {},
   "outputs": [],
   "source": [
    "def PageRank(A,D,N):\n",
    "#  Initialize v.Let v_{0} be a vector indexed by cities (v_{0} is a size N vector)\n",
    "    v=np.zeros([N,N],dtype=float)\n",
    "    for c in range(N):\n",
    "        v[0][c] = 1 / N;\n",
    "    for i in range(1,N):\n",
    "        for c in range(N):\n",
    "            v[i][c]=0.1/N\n",
    "            for d in range(N):\n",
    "                v[i][c]=v[i][c]+0.9 * A[d][c]*v[i-1][d] / D[d]      \n",
    "        \n",
    "        jdz= sum(np.abs(v[i] - v[i-1]))\n",
    "        print('iter = ', i, 'jdz = ', jdz, end='\\n')\n",
    "        if (jdz <= 0.0001): break\n",
    "    #AS I USE BREAK, THE RESULT IS NOT ONE STEP BEYOND WE WANT. THE FORMER ONE SHOULD BE THE ANSWER.\n",
    "    return v[i-1];\n"
   ]
  },
  {
   "cell_type": "code",
   "execution_count": 14,
   "metadata": {},
   "outputs": [
    {
     "name": "stdout",
     "output_type": "stream",
     "text": [
      "iter =  1 jdz =  0.8881976658178996\n",
      "iter =  2 jdz =  0.01128697788142545\n",
      "iter =  3 jdz =  5.848091235097382e-05\n"
     ]
    }
   ],
   "source": [
    "value=PageRank(A,D,N)"
   ]
  },
  {
   "cell_type": "code",
   "execution_count": 15,
   "metadata": {},
   "outputs": [
    {
     "data": {
      "text/plain": [
       "array([0.00030584, 0.00030583, 0.0003103 , 0.00030591, 0.00030605,\n",
       "       0.00030583, 0.00030616, 0.00030727, 0.00030592, 0.00030596,\n",
       "       0.00030584, 0.00030602, 0.00034705, 0.00030592, 0.00030934,\n",
       "       0.00030596, 0.00030584, 0.00030595, 0.0003961 , 0.00030646,\n",
       "       0.00030583, 0.00030771, 0.00030597, 0.00031069, 0.00030591,\n",
       "       0.00030895, 0.000306  , 0.0003059 , 0.00030584, 0.00030592,\n",
       "       0.00030595, 0.0003059 , 0.00030588, 0.00030686, 0.0003059 ,\n",
       "       0.0003059 , 0.00030634, 0.0003161 , 0.00030603, 0.00030584,\n",
       "       0.00030585, 0.0003059 , 0.00030583, 0.0003062 , 0.00030609,\n",
       "       0.000306  , 0.00030583, 0.00030582, 0.00030591, 0.00030583,\n",
       "       0.00030597, 0.00030587, 0.00030617, 0.00030632, 0.00030612,\n",
       "       0.00031482, 0.00030588, 0.00030591, 0.00038607, 0.00030583,\n",
       "       0.00030593, 0.00033929, 0.00031158, 0.00030587, 0.0003059 ,\n",
       "       0.00030677, 0.00030584, 0.00030605, 0.00030583, 0.00030583,\n",
       "       0.00030657, 0.00030835, 0.00030592, 0.00030652, 0.00030856,\n",
       "       0.00037425, 0.00030616, 0.00030587, 0.00030808, 0.00037379,\n",
       "       0.00030607, 0.00034331, 0.00031003, 0.00030584, 0.00030595,\n",
       "       0.00030583, 0.00030582, 0.00030586, 0.00030588, 0.00030594,\n",
       "       0.00030582, 0.00030584, 0.00030663, 0.00030583, 0.00030585,\n",
       "       0.00030585, 0.00030584, 0.00030628, 0.00030591, 0.00030816,\n",
       "       0.00030593, 0.00030613, 0.00030583, 0.00030582, 0.000306  ,\n",
       "       0.00030583, 0.0003412 , 0.00030903, 0.00030584, 0.00030597,\n",
       "       0.0003109 , 0.00030585, 0.00030583, 0.00030586, 0.00030584,\n",
       "       0.00030583, 0.00030668, 0.0003063 , 0.00030589, 0.0003084 ,\n",
       "       0.00030613, 0.00030609, 0.00030588, 0.00030604, 0.00030591,\n",
       "       0.00030615, 0.00030582, 0.00030596, 0.00030596, 0.00030662,\n",
       "       0.00030739, 0.00030588, 0.00030583, 0.00030589, 0.00031159,\n",
       "       0.00030583, 0.00030598, 0.00030588, 0.00033574, 0.0006221 ,\n",
       "       0.00030603, 0.00030582, 0.00030589, 0.0003067 , 0.00030963,\n",
       "       0.00030582, 0.00030942, 0.00030612, 0.00030604, 0.00030606,\n",
       "       0.00030656, 0.00030583, 0.00031198, 0.00030583, 0.00031661,\n",
       "       0.00030702, 0.00030588, 0.00030593, 0.00030718, 0.00030941,\n",
       "       0.00030585, 0.00030592, 0.00032272, 0.00030583, 0.00030612,\n",
       "       0.00030595, 0.00030613, 0.00030783, 0.00030586, 0.00030594,\n",
       "       0.0003059 , 0.00030606, 0.00030583, 0.0003059 , 0.00031294,\n",
       "       0.00030627, 0.00030583, 0.00030583, 0.00030583, 0.00030618,\n",
       "       0.0003061 , 0.00030589, 0.0003062 , 0.00030626, 0.00030583,\n",
       "       0.00032881, 0.0003064 , 0.00030615, 0.00030583, 0.00030583,\n",
       "       0.00030605, 0.00030614, 0.00030584, 0.00030646, 0.00030584,\n",
       "       0.00030591, 0.00030588, 0.00030845, 0.00031117, 0.00031201,\n",
       "       0.00030615, 0.00030653, 0.00036511, 0.00030587, 0.0003059 ,\n",
       "       0.00030592, 0.00030596, 0.00030583, 0.00030593, 0.00030592,\n",
       "       0.0003059 , 0.00030594, 0.00030594, 0.00030582, 0.00030582,\n",
       "       0.00033049, 0.00030587, 0.00030583, 0.00030807, 0.00030583,\n",
       "       0.00030584, 0.000307  , 0.00033358, 0.00031789, 0.00030593,\n",
       "       0.0003059 , 0.00030623, 0.00030783, 0.00030629, 0.00030585,\n",
       "       0.00030744, 0.00030626, 0.00030624, 0.00030625, 0.00032567,\n",
       "       0.00030582, 0.00030582, 0.00030588, 0.00031066, 0.00030606,\n",
       "       0.00030592, 0.00030584, 0.00030607, 0.00030598, 0.00030857,\n",
       "       0.00030984, 0.00031516, 0.00030707, 0.00030623, 0.00030626,\n",
       "       0.00030585, 0.00030603, 0.00030935, 0.00030622, 0.00030826,\n",
       "       0.00030642, 0.00030583, 0.00030633, 0.00031107, 0.00030625,\n",
       "       0.00030587, 0.00030589, 0.00030609, 0.00030583, 0.00030583,\n",
       "       0.00031085, 0.00030588, 0.0003338 , 0.00030583, 0.00030697,\n",
       "       0.00031211, 0.00033195, 0.00030709, 0.00030857, 0.00030585,\n",
       "       0.00030647, 0.00030599, 0.00030586, 0.00030584, 0.00030593,\n",
       "       0.00030584, 0.00030606, 0.00030591, 0.00031176, 0.00030597,\n",
       "       0.00030582, 0.00030622, 0.00030671, 0.00030594, 0.00030611,\n",
       "       0.00030584, 0.00030598, 0.00030749, 0.00030587, 0.00030804,\n",
       "       0.00030589, 0.00030588, 0.00030605, 0.00030603, 0.00031273,\n",
       "       0.00030583, 0.00030588, 0.00030843, 0.00032798, 0.00030615,\n",
       "       0.00030622, 0.00030583, 0.00030583, 0.0003059 , 0.00030583,\n",
       "       0.000306  , 0.00030581, 0.00030598, 0.00030583, 0.00031448,\n",
       "       0.00030582, 0.00030666, 0.00030583, 0.00030619, 0.00030583,\n",
       "       0.00030605, 0.00030594, 0.00030588, 0.00030588, 0.00030876,\n",
       "       0.00030853, 0.00030583])"
      ]
     },
     "execution_count": 15,
     "metadata": {},
     "output_type": "execute_result"
    }
   ],
   "source": [
    "value"
   ]
  },
  {
   "cell_type": "code",
   "execution_count": 16,
   "metadata": {},
   "outputs": [],
   "source": [
    "#Round each PageRank value to 5 decimal places.\n",
    "prvalue=np.round(value,5)"
   ]
  },
  {
   "cell_type": "code",
   "execution_count": 17,
   "metadata": {},
   "outputs": [],
   "source": [
    "PR=pd.DataFrame({'city':cities,'PageRank value':prvalue}).sort_values(by=['PageRank value'],ascending =False)\n",
    "PR.to_csv('PageRank.csv')"
   ]
  },
  {
   "cell_type": "markdown",
   "metadata": {},
   "source": [
    "# THE WHOLE DATASET"
   ]
  },
  {
   "cell_type": "markdown",
   "metadata": {},
   "source": [
    "df=pd.read_csv(r'C:\\\\Users\\yang_\\OneDrive - UW\\database\\SQL basics\\flights-small-all\\flights-small-all\\flights-small.csv',\n",
    "                 names=['fid','month_id','day_of_month','day_of_week_id','carrier_id','flight_num','origin_city',\n",
    "                        'origin_state','dest_city','dest_state','departure_delay','taxi_out','arrival_delay','canceled',\n",
    "                        'actual_time','distance','capacity','price'],header=None)"
   ]
  },
  {
   "cell_type": "markdown",
   "metadata": {
    "scrolled": false
   },
   "source": [
    "df.head()"
   ]
  }
 ],
 "metadata": {
  "kernelspec": {
   "display_name": "Python 3",
   "language": "python",
   "name": "python3"
  },
  "language_info": {
   "codemirror_mode": {
    "name": "ipython",
    "version": 3
   },
   "file_extension": ".py",
   "mimetype": "text/x-python",
   "name": "python",
   "nbconvert_exporter": "python",
   "pygments_lexer": "ipython3",
   "version": "3.8.3"
  }
 },
 "nbformat": 4,
 "nbformat_minor": 4
}
